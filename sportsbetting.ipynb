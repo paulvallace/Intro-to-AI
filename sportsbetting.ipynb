{
  "nbformat": 4,
  "nbformat_minor": 0,
  "metadata": {
    "colab": {
      "provenance": [],
      "authorship_tag": "ABX9TyN9ur8msbk/ct5WhpZ+2Jaa",
      "include_colab_link": true
    },
    "kernelspec": {
      "name": "python3",
      "display_name": "Python 3"
    },
    "language_info": {
      "name": "python"
    }
  },
  "cells": [
    {
      "cell_type": "markdown",
      "metadata": {
        "id": "view-in-github",
        "colab_type": "text"
      },
      "source": [
        "<a href=\"https://colab.research.google.com/github/paulvallace/Intro-to-AI/blob/main/sportsbetting.ipynb\" target=\"_parent\"><img src=\"https://colab.research.google.com/assets/colab-badge.svg\" alt=\"Open In Colab\"/></a>"
      ]
    },
    {
      "cell_type": "code",
      "execution_count": null,
      "metadata": {
        "colab": {
          "base_uri": "https://localhost:8080/"
        },
        "id": "OLOtSitWRvzB",
        "outputId": "2d599640-d695-4646-c663-095e99fd4e05"
      },
      "outputs": [
        {
          "output_type": "stream",
          "name": "stdout",
          "text": [
            "Stake on Outcome 1: 550.00, Profit: 210.00\n",
            "Stake on Outcome 2: 450.00, Profit: -190.00\n",
            "No Arbitrage Opportunity\n"
          ]
        }
      ],
      "source": [
        "class ArbitrageBot:\n",
        "    def __init__(self, bookmaker1_odds, bookmaker2_odds):\n",
        "        self.bookmaker1_odds = bookmaker1_odds\n",
        "        self.bookmaker2_odds = bookmaker2_odds\n",
        "\n",
        "    def calculate_arbitrage_opportunity(self):\n",
        "        total_investment = 1000  # Total amount of money to invest\n",
        "\n",
        "        # Calculate the implied probabilities of each outcome (convert odds to probabilities)\n",
        "        prob_outcome1 = 1 / self.bookmaker1_odds\n",
        "        prob_outcome2 = 1 / self.bookmaker2_odds\n",
        "\n",
        "        # Calculate the total implied probability (sum of all outcomes' probabilities)\n",
        "        total_prob = prob_outcome1 + prob_outcome2\n",
        "\n",
        "        # Calculate the proportional stakes for each outcome based on their probabilities\n",
        "        stake_outcome1 = (prob_outcome2 / total_prob) * total_investment\n",
        "        stake_outcome2 = (prob_outcome1 / total_prob) * total_investment\n",
        "\n",
        "        # Calculate the potential profits for each outcome\n",
        "        profit_outcome1 = stake_outcome1 * self.bookmaker1_odds - total_investment\n",
        "        profit_outcome2 = stake_outcome2 * self.bookmaker2_odds - total_investment\n",
        "\n",
        "        # Print the results\n",
        "        print(f\"Stake on Outcome 1: {stake_outcome1:.2f}, Profit: {profit_outcome1:.2f}\")\n",
        "        print(f\"Stake on Outcome 2: {stake_outcome2:.2f}, Profit: {profit_outcome2:.2f}\")\n",
        "\n",
        "        # Check if there is an arbitrage opportunity\n",
        "        if profit_outcome1 > 0 and profit_outcome2 > 0:\n",
        "            print(\"Arbitrage Opportunity Detected!\")\n",
        "        else:\n",
        "            print(\"No Arbitrage Opportunity\")\n",
        "\n",
        "\n",
        "# Example usage:\n",
        "if __name__ == \"__main__\":\n",
        "    bookmaker1_odds = 2.2  # Odds offered by Bookmaker 1 for Outcome 1\n",
        "    bookmaker2_odds = 1.8  # Odds offered by Bookmaker 2 for Outcome 2\n",
        "\n",
        "    bot = ArbitrageBot(bookmaker1_odds, bookmaker2_odds)\n",
        "    bot.calculate_arbitrage_opportunity()\n"
      ]
    },
    {
      "cell_type": "code",
      "source": [
        "import requests\n",
        "\n",
        "\n",
        "# An api key is emailed to you when you sign up to a plan\n",
        "# Get a free API key at https://api.the-odds-api.com/\n",
        "API_KEY = 'YOUR_API_KEY'\n",
        "\n",
        "SPORT = 'upcoming' # use the sport_key from the /sports endpoint below, or use 'upcoming' to see the next 8 games across all sports\n",
        "\n",
        "REGIONS = 'us' # uk | us | eu | au. Multiple can be specified if comma delimited\n",
        "\n",
        "MARKETS = 'h2h,spreads' # h2h | spreads | totals. Multiple can be specified if comma delimited\n",
        "\n",
        "ODDS_FORMAT = 'decimal' # decimal | american\n",
        "\n",
        "DATE_FORMAT = 'iso' # iso | unix\n",
        "\n",
        "# # # # # # # # # # # # # # # # # # # # # # # # # # # # # # # # # # # #\n",
        "#\n",
        "# First get a list of in-season sports\n",
        "#   The sport 'key' from the response can be used to get odds in the next request\n",
        "#\n",
        "# # # # # # # # # # # # # # # # # # # # # # # # # # # # # # # # # # # #\n",
        "\n",
        "sports_response = requests.get(\n",
        "    'https://api.the-odds-api.com/v4/sports',\n",
        "    params={\n",
        "        'api_key': API_KEY\n",
        "    }\n",
        ")\n",
        "\n",
        "\n",
        "if sports_response.status_code != 200:\n",
        "    print(f'Failed to get sports: status_code {sports_response.status_code}, response body {sports_response.text}')\n",
        "\n",
        "else:\n",
        "    print('List of in season sports:', sports_response.json())\n",
        "\n",
        "\n",
        "\n",
        "# # # # # # # # # # # # # # # # # # # # # # # # # # # # # # # # # # # #\n",
        "#\n",
        "# Now get a list of live & upcoming games for the sport you want, along with odds for different bookmakers\n",
        "# This will deduct from the usage quota\n",
        "# The usage quota cost = [number of markets specified] x [number of regions specified]\n",
        "# For examples of usage quota costs, see https://the-odds-api.com/liveapi/guides/v4/#usage-quota-costs\n",
        "#\n",
        "# # # # # # # # # # # # # # # # # # # # # # # # # # # # # # # # # # # #\n",
        "\n",
        "odds_response = requests.get(\n",
        "    f'https://api.the-odds-api.com/v4/sports/{SPORT}/odds',\n",
        "    params={\n",
        "        'api_key': API_KEY,\n",
        "        'regions': REGIONS,\n",
        "        'markets': MARKETS,\n",
        "        'oddsFormat': ODDS_FORMAT,\n",
        "        'dateFormat': DATE_FORMAT,\n",
        "    }\n",
        ")\n",
        "\n",
        "if odds_response.status_code != 200:\n",
        "    print(f'Failed to get odds: status_code {odds_response.status_code}, response body {odds_response.text}')\n",
        "\n",
        "else:\n",
        "    odds_json = odds_response.json()\n",
        "    print('Number of events:', len(odds_json))\n",
        "    print(odds_json)\n",
        "\n",
        "    # Check the usage quota\n",
        "    print('Remaining requests', odds_response.headers['x-requests-remaining'])\n",
        "    print('Used requests', odds_response.headers['x-requests-used'])\n"
      ],
      "metadata": {
        "colab": {
          "base_uri": "https://localhost:8080/"
        },
        "id": "PpNU3uBYT0hg",
        "outputId": "00186db1-3154-47ef-a331-d1878cd6b186"
      },
      "execution_count": null,
      "outputs": [
        {
          "output_type": "stream",
          "name": "stdout",
          "text": [
            "Failed to get sports: status_code 401, response body {\"message\":\"Looks like you're missing an API key. To see live sports odds, get your free api key at https://the-odds-api.com\"}\n",
            "\n",
            "Failed to get odds: status_code 401, response body {\"message\":\"Looks like you're missing an API key. To see live sports odds, get your free api key at https://the-odds-api.com\"}\n",
            "\n"
          ]
        }
      ]
    }
  ]
}